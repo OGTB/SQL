{
 "cells": [
  {
   "cell_type": "markdown",
   "id": "65a2664c-2591-44c2-9009-8a6bbbf86f9d",
   "metadata": {},
   "source": [
    "## MySQL virtual tables and JOINS\n",
    "### Introduction"
   ]
  },
  {
   "cell_type": "markdown",
   "id": "c42f9348-1ecb-46c6-acdf-649cbae574ef",
   "metadata": {},
   "source": [
    "#### To manage your data in a relational database, you must have a good understanding of how to access, extract, process and manipulate information using various SQL queries. "
   ]
  },
  {
   "cell_type": "markdown",
   "id": "ed561db3-d27a-4c76-9385-f391745f492f",
   "metadata": {},
   "source": [
    "To extract all data existing in a table, you can use the primary form of SQL query as follows:"
   ]
  },
  {
   "cell_type": "code",
   "execution_count": null,
   "id": "7f54f0b8-f2de-47c5-8eb6-30dcd541097e",
   "metadata": {},
   "outputs": [],
   "source": [
    "SELECT * FROM table; "
   ]
  },
  {
   "cell_type": "markdown",
   "id": "ea5b417c-633e-498a-8ba4-012450f5aa93",
   "metadata": {},
   "source": [
    "To obtain data from a table with specific dates you can use the following syntax"
   ]
  },
  {
   "cell_type": "markdown",
   "id": "8c24912c-55db-42d8-9d02-013fb882be61",
   "metadata": {},
   "source": [
    "SELECT column_name \n",
    "FROM table_name \n",
    "WHERE date_column > date_value;"
   ]
  },
  {
   "cell_type": "markdown",
   "id": "ada1a601-5289-41a4-a2fa-6bbf7c8f2e70",
   "metadata": {},
   "source": [
    "An alias is created by using the AS keyword as shown in the following syntax"
   ]
  },
  {
   "cell_type": "markdown",
   "id": "06394041-c7ae-4506-974c-cd9d00cda5dc",
   "metadata": {},
   "source": [
    "SELECT column_a AS 'Column A' \n",
    "FROM table_name; "
   ]
  },
  {
   "cell_type": "code",
   "execution_count": null,
   "id": "34f46894-0167-4fc1-8247-1495e8e6c8a4",
   "metadata": {},
   "outputs": [],
   "source": [
    "Also, using aliases can be very important when making use of JOIN statements. \n",
    "\n",
    "You can also use the aggregate functions to summarize data in your database such as COUNT, SUM, MIN, MAX, and AVERAGE. For example, you can use the following syntax to count all values in a particular column."
   ]
  },
  {
   "cell_type": "code",
   "execution_count": null,
   "id": "f50287ff-a081-4aea-b538-112cf5800704",
   "metadata": {},
   "outputs": [],
   "source": [
    "SELECT COUNT(column_name) \n",
    "FROM table_name;"
   ]
  },
  {
   "cell_type": "markdown",
   "id": "58448dca-b29a-454e-bb51-0bd6f796bccb",
   "metadata": {},
   "source": [
    "### Subqueries"
   ]
  },
  {
   "cell_type": "code",
   "execution_count": null,
   "id": "3892b3db-a251-4b34-a90b-e88e8e961988",
   "metadata": {},
   "outputs": [],
   "source": [
    "A subquery is a query within another query. You can create a subquery as an inner query and include it in another query called outer query. The inner query can be thought of as the child query and the outer query as the parent query.\n",
    "Subqueries, also called nested queries, can be placed in the SELECT, FROM or WHERE clause to return relevant data. In a subquery you can use several types of operators including ANY, ALL, EXIST and NOT EXISTS. \n",
    "The following syntax makes use of the EXISTS operator to test for the existence of any records in the subquery:"
   ]
  },
  {
   "cell_type": "markdown",
   "id": "921446f1-b450-4fcc-b0c9-1ed8d745798b",
   "metadata": {},
   "source": [
    "### Joins"
   ]
  },
  {
   "cell_type": "code",
   "execution_count": null,
   "id": "27937389-fe1e-4af6-984a-48e0f9a04d18",
   "metadata": {},
   "outputs": [],
   "source": [
    "JOINS are important for obtaining data from multiple tables in relational databases. You can use different types of JOIN to explore the relationships between different records of data that exist in different tables. \n",
    "\n",
    "The main JOINS supported in MySQL include the INNER JOIN, the LEFT JOIN and the RIGHT JOIN."
   ]
  },
  {
   "cell_type": "code",
   "execution_count": null,
   "id": "8580a420-bf8d-41ca-8eaa-946ceda888a6",
   "metadata": {},
   "outputs": [],
   "source": [
    "SELECT columns \n",
    "FROM table1 INNER JOIN table2 \n",
    "ON table1.column = table2.column;"
   ]
  },
  {
   "cell_type": "markdown",
   "id": "25366ee2-0d45-4634-b4fa-a90a57f8fbf7",
   "metadata": {},
   "source": [
    "### Virtual tables"
   ]
  },
  {
   "cell_type": "markdown",
   "id": "099e9dab-79f9-47f3-814a-121ca69095ec",
   "metadata": {},
   "source": [
    "Virtual tables are very helpful for summarizing data. The SQL view creates a virtual table from existing tables in the database. Key advantages of virtual tables include:\n",
    "\n",
    "1. Focus on specific data in the database.\n",
    "2. Reduce data returned from a query. \n",
    "3. Include complex calculations and functions. \n",
    "4. Save time in querying data.\n",
    "5. Reduce report complexity"
   ]
  },
  {
   "cell_type": "code",
   "execution_count": null,
   "id": "548f476f-efba-4f2b-b35c-d399f81df957",
   "metadata": {},
   "outputs": [],
   "source": [
    "The basic syntax to create a virtual table in SQL is as follows:"
   ]
  },
  {
   "cell_type": "code",
   "execution_count": null,
   "id": "164195f6-8e16-401a-b188-a93bf9df2437",
   "metadata": {},
   "outputs": [],
   "source": [
    "CREATE VIEW virtual_table AS SELECT column FROM table;"
   ]
  },
  {
   "cell_type": "code",
   "execution_count": null,
   "id": "f4381d98-c5f7-4386-9f26-ac45134b3fb0",
   "metadata": {},
   "outputs": [],
   "source": []
  }
 ],
 "metadata": {
  "kernelspec": {
   "display_name": "Python 3 (ipykernel)",
   "language": "python",
   "name": "python3"
  },
  "language_info": {
   "codemirror_mode": {
    "name": "ipython",
    "version": 3
   },
   "file_extension": ".py",
   "mimetype": "text/x-python",
   "name": "python",
   "nbconvert_exporter": "python",
   "pygments_lexer": "ipython3",
   "version": "3.13.0"
  }
 },
 "nbformat": 4,
 "nbformat_minor": 5
}
